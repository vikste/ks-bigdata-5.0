{
 "cells": [
  {
   "cell_type": "code",
   "execution_count": 1,
   "metadata": {},
   "outputs": [],
   "source": [
    "import pandas as pd\n",
    "import numpy as np\n",
    "from pathlib import Path\n",
    "import matplotlib.pyplot as plt"
   ]
  },
  {
   "cell_type": "code",
   "execution_count": 2,
   "metadata": {},
   "outputs": [],
   "source": [
    "pd.options.display.max_columns=60"
   ]
  },
  {
   "cell_type": "code",
   "execution_count": 3,
   "metadata": {},
   "outputs": [],
   "source": [
    "datadir = Path('./data/')"
   ]
  },
  {
   "cell_type": "code",
   "execution_count": 4,
   "metadata": {},
   "outputs": [],
   "source": [
    "tabular_data_df = pd.read_csv(datadir/'tabular_data.csv')\n",
    "hashed_feature_df = pd.read_csv(datadir/'hashed_feature.csv')\n",
    "label_df = pd.read_csv(datadir/'train.csv')"
   ]
  },
  {
   "cell_type": "code",
   "execution_count": 5,
   "metadata": {},
   "outputs": [
    {
     "data": {
      "text/plain": [
       "((61272, 52), (266053, 2), (4084, 2))"
      ]
     },
     "execution_count": 5,
     "metadata": {},
     "output_type": "execute_result"
    }
   ],
   "source": [
    "tabular_data_df.shape, hashed_feature_df.shape, label_df.shape"
   ]
  },
  {
   "cell_type": "code",
   "execution_count": 6,
   "metadata": {},
   "outputs": [
    {
     "data": {
      "text/html": [
       "<div>\n",
       "<style scoped>\n",
       "    .dataframe tbody tr th:only-of-type {\n",
       "        vertical-align: middle;\n",
       "    }\n",
       "\n",
       "    .dataframe tbody tr th {\n",
       "        vertical-align: top;\n",
       "    }\n",
       "\n",
       "    .dataframe thead th {\n",
       "        text-align: right;\n",
       "    }\n",
       "</style>\n",
       "<table border=\"1\" class=\"dataframe\">\n",
       "  <thead>\n",
       "    <tr style=\"text-align: right;\">\n",
       "      <th></th>\n",
       "      <th>id</th>\n",
       "      <th>period</th>\n",
       "      <th>feature_0</th>\n",
       "      <th>feature_1</th>\n",
       "      <th>feature_2</th>\n",
       "      <th>feature_3</th>\n",
       "      <th>feature_4</th>\n",
       "      <th>feature_5</th>\n",
       "      <th>feature_6</th>\n",
       "      <th>feature_7</th>\n",
       "      <th>feature_8</th>\n",
       "      <th>feature_9</th>\n",
       "      <th>feature_10</th>\n",
       "      <th>feature_11</th>\n",
       "      <th>feature_12</th>\n",
       "      <th>feature_13</th>\n",
       "      <th>feature_14</th>\n",
       "      <th>feature_15</th>\n",
       "      <th>feature_16</th>\n",
       "      <th>feature_17</th>\n",
       "      <th>feature_18</th>\n",
       "      <th>feature_19</th>\n",
       "      <th>feature_20</th>\n",
       "      <th>feature_21</th>\n",
       "      <th>feature_22</th>\n",
       "      <th>feature_23</th>\n",
       "      <th>feature_24</th>\n",
       "      <th>feature_25</th>\n",
       "      <th>feature_26</th>\n",
       "      <th>feature_27</th>\n",
       "      <th>feature_28</th>\n",
       "      <th>feature_29</th>\n",
       "      <th>feature_30</th>\n",
       "      <th>feature_31</th>\n",
       "      <th>feature_32</th>\n",
       "      <th>feature_33</th>\n",
       "      <th>feature_34</th>\n",
       "      <th>feature_35</th>\n",
       "      <th>feature_36</th>\n",
       "      <th>feature_37</th>\n",
       "      <th>feature_38</th>\n",
       "      <th>feature_39</th>\n",
       "      <th>feature_40</th>\n",
       "      <th>feature_41</th>\n",
       "      <th>feature_42</th>\n",
       "      <th>feature_43</th>\n",
       "      <th>feature_44</th>\n",
       "      <th>feature_45</th>\n",
       "      <th>feature_46</th>\n",
       "      <th>feature_47</th>\n",
       "      <th>feature_48</th>\n",
       "      <th>feature_49</th>\n",
       "    </tr>\n",
       "  </thead>\n",
       "  <tbody>\n",
       "    <tr>\n",
       "      <th>0</th>\n",
       "      <td>0</td>\n",
       "      <td>1</td>\n",
       "      <td>110.0</td>\n",
       "      <td>55.0</td>\n",
       "      <td>0.432017</td>\n",
       "      <td>0.0</td>\n",
       "      <td>176.78</td>\n",
       "      <td>0.0</td>\n",
       "      <td>0.323712</td>\n",
       "      <td>NaN</td>\n",
       "      <td>147.0</td>\n",
       "      <td>0.0</td>\n",
       "      <td>176.78</td>\n",
       "      <td>55.0</td>\n",
       "      <td>0.248711</td>\n",
       "      <td>0.001373</td>\n",
       "      <td>0.0</td>\n",
       "      <td>0.0</td>\n",
       "      <td>0.0</td>\n",
       "      <td>0.476549</td>\n",
       "      <td>333.60</td>\n",
       "      <td>0.277617</td>\n",
       "      <td>55.0</td>\n",
       "      <td>0.0</td>\n",
       "      <td>55.0</td>\n",
       "      <td>21.0</td>\n",
       "      <td>0.0</td>\n",
       "      <td>f9ae10397ed62e79c644d06842bbcd92963a5927</td>\n",
       "      <td>NaN</td>\n",
       "      <td>0.0</td>\n",
       "      <td>1.00</td>\n",
       "      <td>55.0</td>\n",
       "      <td>93.0</td>\n",
       "      <td>5562.0</td>\n",
       "      <td>93.0</td>\n",
       "      <td>0.040283</td>\n",
       "      <td>182.0</td>\n",
       "      <td>0.0</td>\n",
       "      <td>43.50</td>\n",
       "      <td>0.0</td>\n",
       "      <td>0.0</td>\n",
       "      <td>0.00</td>\n",
       "      <td>0.0</td>\n",
       "      <td>0</td>\n",
       "      <td>0.0</td>\n",
       "      <td>0.0</td>\n",
       "      <td>55.0</td>\n",
       "      <td>2.0</td>\n",
       "      <td>0.526552</td>\n",
       "      <td>145.0</td>\n",
       "      <td>133.28</td>\n",
       "      <td>0.0</td>\n",
       "    </tr>\n",
       "    <tr>\n",
       "      <th>1</th>\n",
       "      <td>0</td>\n",
       "      <td>2</td>\n",
       "      <td>110.0</td>\n",
       "      <td>110.0</td>\n",
       "      <td>0.397517</td>\n",
       "      <td>0.0</td>\n",
       "      <td>315.42</td>\n",
       "      <td>0.0</td>\n",
       "      <td>0.316798</td>\n",
       "      <td>NaN</td>\n",
       "      <td>135.0</td>\n",
       "      <td>0.0</td>\n",
       "      <td>315.42</td>\n",
       "      <td>110.0</td>\n",
       "      <td>0.261744</td>\n",
       "      <td>-0.002248</td>\n",
       "      <td>0.0</td>\n",
       "      <td>0.0</td>\n",
       "      <td>0.0</td>\n",
       "      <td>0.210951</td>\n",
       "      <td>428.78</td>\n",
       "      <td>0.290904</td>\n",
       "      <td>110.0</td>\n",
       "      <td>0.0</td>\n",
       "      <td>110.0</td>\n",
       "      <td>26.0</td>\n",
       "      <td>0.0</td>\n",
       "      <td>f9ae10397ed62e79c644d06842bbcd92963a5927</td>\n",
       "      <td>NaN</td>\n",
       "      <td>0.0</td>\n",
       "      <td>0.77</td>\n",
       "      <td>110.0</td>\n",
       "      <td>114.0</td>\n",
       "      <td>5532.0</td>\n",
       "      <td>114.0</td>\n",
       "      <td>0.047588</td>\n",
       "      <td>181.0</td>\n",
       "      <td>0.0</td>\n",
       "      <td>85.45</td>\n",
       "      <td>0.0</td>\n",
       "      <td>0.0</td>\n",
       "      <td>15.75</td>\n",
       "      <td>0.0</td>\n",
       "      <td>0</td>\n",
       "      <td>0.0</td>\n",
       "      <td>0.0</td>\n",
       "      <td>110.0</td>\n",
       "      <td>1.0</td>\n",
       "      <td>0.481063</td>\n",
       "      <td>130.0</td>\n",
       "      <td>229.97</td>\n",
       "      <td>0.0</td>\n",
       "    </tr>\n",
       "  </tbody>\n",
       "</table>\n",
       "</div>"
      ],
      "text/plain": [
       "   id  period  feature_0  feature_1  feature_2  feature_3  feature_4  \\\n",
       "0   0       1      110.0       55.0   0.432017        0.0     176.78   \n",
       "1   0       2      110.0      110.0   0.397517        0.0     315.42   \n",
       "\n",
       "   feature_5  feature_6  feature_7  feature_8  feature_9  feature_10  \\\n",
       "0        0.0   0.323712        NaN      147.0        0.0      176.78   \n",
       "1        0.0   0.316798        NaN      135.0        0.0      315.42   \n",
       "\n",
       "   feature_11  feature_12  feature_13  feature_14  feature_15  feature_16  \\\n",
       "0        55.0    0.248711    0.001373         0.0         0.0         0.0   \n",
       "1       110.0    0.261744   -0.002248         0.0         0.0         0.0   \n",
       "\n",
       "   feature_17  feature_18  feature_19  feature_20  feature_21  feature_22  \\\n",
       "0    0.476549      333.60    0.277617        55.0         0.0        55.0   \n",
       "1    0.210951      428.78    0.290904       110.0         0.0       110.0   \n",
       "\n",
       "   feature_23  feature_24                                feature_25  \\\n",
       "0        21.0         0.0  f9ae10397ed62e79c644d06842bbcd92963a5927   \n",
       "1        26.0         0.0  f9ae10397ed62e79c644d06842bbcd92963a5927   \n",
       "\n",
       "   feature_26  feature_27  feature_28  feature_29  feature_30  feature_31  \\\n",
       "0         NaN         0.0        1.00        55.0        93.0      5562.0   \n",
       "1         NaN         0.0        0.77       110.0       114.0      5532.0   \n",
       "\n",
       "   feature_32  feature_33  feature_34  feature_35  feature_36  feature_37  \\\n",
       "0        93.0    0.040283       182.0         0.0       43.50         0.0   \n",
       "1       114.0    0.047588       181.0         0.0       85.45         0.0   \n",
       "\n",
       "   feature_38  feature_39  feature_40  feature_41  feature_42  feature_43  \\\n",
       "0         0.0        0.00         0.0           0         0.0         0.0   \n",
       "1         0.0       15.75         0.0           0         0.0         0.0   \n",
       "\n",
       "   feature_44  feature_45  feature_46  feature_47  feature_48  feature_49  \n",
       "0        55.0         2.0    0.526552       145.0      133.28         0.0  \n",
       "1       110.0         1.0    0.481063       130.0      229.97         0.0  "
      ]
     },
     "execution_count": 6,
     "metadata": {},
     "output_type": "execute_result"
    }
   ],
   "source": [
    "tabular_data_df.head(2)"
   ]
  },
  {
   "cell_type": "code",
   "execution_count": 7,
   "metadata": {
    "scrolled": true
   },
   "outputs": [
    {
     "data": {
      "text/html": [
       "<div>\n",
       "<style scoped>\n",
       "    .dataframe tbody tr th:only-of-type {\n",
       "        vertical-align: middle;\n",
       "    }\n",
       "\n",
       "    .dataframe tbody tr th {\n",
       "        vertical-align: top;\n",
       "    }\n",
       "\n",
       "    .dataframe thead th {\n",
       "        text-align: right;\n",
       "    }\n",
       "</style>\n",
       "<table border=\"1\" class=\"dataframe\">\n",
       "  <thead>\n",
       "    <tr style=\"text-align: right;\">\n",
       "      <th></th>\n",
       "      <th>id</th>\n",
       "      <th>feature_50</th>\n",
       "    </tr>\n",
       "  </thead>\n",
       "  <tbody>\n",
       "    <tr>\n",
       "      <th>0</th>\n",
       "      <td>0</td>\n",
       "      <td>7984b0a0e139cabadb5afc7756d473fb34d23819</td>\n",
       "    </tr>\n",
       "    <tr>\n",
       "      <th>1</th>\n",
       "      <td>0</td>\n",
       "      <td>47904b3331202e9881d003ff449c2eabfbc75460</td>\n",
       "    </tr>\n",
       "  </tbody>\n",
       "</table>\n",
       "</div>"
      ],
      "text/plain": [
       "   id                                feature_50\n",
       "0   0  7984b0a0e139cabadb5afc7756d473fb34d23819\n",
       "1   0  47904b3331202e9881d003ff449c2eabfbc75460"
      ]
     },
     "execution_count": 7,
     "metadata": {},
     "output_type": "execute_result"
    }
   ],
   "source": [
    "hashed_feature_df.head(2)"
   ]
  },
  {
   "cell_type": "code",
   "execution_count": 8,
   "metadata": {},
   "outputs": [
    {
     "data": {
      "text/html": [
       "<div>\n",
       "<style scoped>\n",
       "    .dataframe tbody tr th:only-of-type {\n",
       "        vertical-align: middle;\n",
       "    }\n",
       "\n",
       "    .dataframe tbody tr th {\n",
       "        vertical-align: top;\n",
       "    }\n",
       "\n",
       "    .dataframe thead th {\n",
       "        text-align: right;\n",
       "    }\n",
       "</style>\n",
       "<table border=\"1\" class=\"dataframe\">\n",
       "  <thead>\n",
       "    <tr style=\"text-align: right;\">\n",
       "      <th></th>\n",
       "      <th>id</th>\n",
       "      <th>target</th>\n",
       "    </tr>\n",
       "  </thead>\n",
       "  <tbody>\n",
       "    <tr>\n",
       "      <th>0</th>\n",
       "      <td>0</td>\n",
       "      <td>0</td>\n",
       "    </tr>\n",
       "    <tr>\n",
       "      <th>1</th>\n",
       "      <td>1</td>\n",
       "      <td>0</td>\n",
       "    </tr>\n",
       "  </tbody>\n",
       "</table>\n",
       "</div>"
      ],
      "text/plain": [
       "   id  target\n",
       "0   0       0\n",
       "1   1       0"
      ]
     },
     "execution_count": 8,
     "metadata": {},
     "output_type": "execute_result"
    }
   ],
   "source": [
    "label_df.head(2)"
   ]
  },
  {
   "cell_type": "code",
   "execution_count": 9,
   "metadata": {
    "scrolled": true
   },
   "outputs": [
    {
     "data": {
      "text/plain": [
       "0    3009\n",
       "1    1075\n",
       "Name: target, dtype: int64"
      ]
     },
     "execution_count": 9,
     "metadata": {},
     "output_type": "execute_result"
    }
   ],
   "source": [
    "label_df['target'].value_counts()"
   ]
  },
  {
   "cell_type": "code",
   "execution_count": 10,
   "metadata": {},
   "outputs": [
    {
     "data": {
      "text/plain": [
       "4517    1278\n",
       "3503     957\n",
       "3329     925\n",
       "4967     774\n",
       "1885     756\n",
       "        ... \n",
       "3208       1\n",
       "2145       1\n",
       "3679       1\n",
       "3601       1\n",
       "2226       1\n",
       "Name: id, Length: 5106, dtype: int64"
      ]
     },
     "execution_count": 10,
     "metadata": {},
     "output_type": "execute_result"
    }
   ],
   "source": [
    "hashed_feature_df['id'].value_counts()"
   ]
  },
  {
   "cell_type": "code",
   "execution_count": 11,
   "metadata": {},
   "outputs": [
    {
     "data": {
      "text/plain": [
       "(array([4.567e+03, 4.060e+02, 8.900e+01, 2.500e+01, 9.000e+00, 6.000e+00,\n",
       "        1.000e+00, 2.000e+00, 0.000e+00, 1.000e+00]),\n",
       " array([1.0000e+00, 1.2870e+02, 2.5640e+02, 3.8410e+02, 5.1180e+02,\n",
       "        6.3950e+02, 7.6720e+02, 8.9490e+02, 1.0226e+03, 1.1503e+03,\n",
       "        1.2780e+03]),\n",
       " <BarContainer object of 10 artists>)"
      ]
     },
     "execution_count": 11,
     "metadata": {},
     "output_type": "execute_result"
    },
    {
     "data": {
      "image/png": "[encoded data removed]",
      "text/plain": [
       "<Figure size 432x288 with 1 Axes>"
      ]
     },
     "metadata": {
      "needs_background": "light"
     },
     "output_type": "display_data"
    }
   ],
   "source": [
    "plt.hist(hashed_feature_df['id'].value_counts(), bins=10)"
   ]
  },
  {
   "cell_type": "code",
   "execution_count": 12,
   "metadata": {},
   "outputs": [],
   "source": [
    "# add feature_50 (count)\n",
    "tabular_data_df = tabular_data_df.merge(hashed_feature_df.groupby('id').count(), how='left', on='id')"
   ]
  },
  {
   "cell_type": "code",
   "execution_count": 13,
   "metadata": {},
   "outputs": [],
   "source": [
    "# add target\n",
    "tabular_data_df=tabular_data_df.merge(label_df, how='left', on='id')"
   ]
  },
  {
   "cell_type": "code",
   "execution_count": 14,
   "metadata": {},
   "outputs": [],
   "source": [
    "# replace feature25\n",
    "feat_25 = dict(zip(tabular_data_df['feature_25'].unique(), range(8)))\n",
    "tabular_data_df['feature_25'].replace(feat_25, inplace=True)"
   ]
  },
  {
   "cell_type": "code",
   "execution_count": 15,
   "metadata": {},
   "outputs": [],
   "source": [
    "tabular_data_df.drop(columns=['period','feature_31', 'feature_34', 'feature_41', 'feature_44'], inplace=True)"
   ]
  },
  {
   "cell_type": "code",
   "execution_count": 16,
   "metadata": {},
   "outputs": [],
   "source": [
    "# f10=f36+f48"
   ]
  },
  {
   "cell_type": "code",
   "execution_count": 17,
   "metadata": {},
   "outputs": [],
   "source": [
    "tabular_data_df['feature_48'] = tabular_data_df.apply(\n",
    "    lambda row: row['feature_10']-row['feature_36'] if np.isnan(row['feature_48']) else row['feature_48'],\n",
    "    axis=1\n",
    ")"
   ]
  },
  {
   "cell_type": "code",
   "execution_count": 18,
   "metadata": {},
   "outputs": [],
   "source": [
    "tabular_data_df['feature_36'] = tabular_data_df.apply(\n",
    "    lambda row: row['feature_10']-row['feature_48'] if np.isnan(row['feature_36']) else row['feature_36'],\n",
    "    axis=1\n",
    ")"
   ]
  },
  {
   "cell_type": "code",
   "execution_count": 19,
   "metadata": {},
   "outputs": [],
   "source": [
    "tabular_data_df['feature_10'] = tabular_data_df.apply(\n",
    "    lambda row: row['feature_36']+row['feature_48'] if np.isnan(row['feature_10']) else row['feature_10'],\n",
    "    axis=1\n",
    ")"
   ]
  },
  {
   "cell_type": "markdown",
   "metadata": {},
   "source": [
    "Train/test split"
   ]
  },
  {
   "cell_type": "code",
   "execution_count": 20,
   "metadata": {},
   "outputs": [],
   "source": [
    "train_df = tabular_data_df[tabular_data_df['target'].notna()].copy()"
   ]
  },
  {
   "cell_type": "code",
   "execution_count": 21,
   "metadata": {},
   "outputs": [
    {
     "data": {
      "text/plain": [
       "(49008, 49)"
      ]
     },
     "execution_count": 21,
     "metadata": {},
     "output_type": "execute_result"
    }
   ],
   "source": [
    "train_df.shape"
   ]
  },
  {
   "cell_type": "code",
   "execution_count": 22,
   "metadata": {},
   "outputs": [],
   "source": [
    "test_df = tabular_data_df[tabular_data_df['target'].isna()].copy()"
   ]
  },
  {
   "cell_type": "code",
   "execution_count": 23,
   "metadata": {},
   "outputs": [
    {
     "data": {
      "text/plain": [
       "(12264, 49)"
      ]
     },
     "execution_count": 23,
     "metadata": {},
     "output_type": "execute_result"
    }
   ],
   "source": [
    "test_df.shape"
   ]
  },
  {
   "cell_type": "markdown",
   "metadata": {},
   "source": [
    "Manage NAs"
   ]
  },
  {
   "cell_type": "code",
   "execution_count": 24,
   "metadata": {},
   "outputs": [],
   "source": [
    "fill_0 = ['feature_20', 'feature_11', 'feature_29', 'feature_3', 'feature_35', 'feature_42',\n",
    "         'feature_4', 'feature_10', 'feature_36', 'feature_48', 'feature_5', 'feature_7', 'feature_9',\n",
    "         'feature_14', 'feature_15', 'feature_16', 'feature_18', 'feature_24', 'feature_26', 'feature_27',\n",
    "         'feature_30', 'feature_47', 'feature_37', 'feature_38', 'feature_39', 'feature_43', 'feature_45',\n",
    "         'feature_49']"
   ]
  },
  {
   "cell_type": "code",
   "execution_count": 25,
   "metadata": {},
   "outputs": [],
   "source": [
    "fill_mean = ['feature_1', 'feature_2', 'feature_6', 'feature_8', 'feature_12', 'feature_13', 'feature_19',\n",
    "            'feature_23', 'feature_28', 'feature_32', 'feature_33', 'feature_40', 'feature_46']"
   ]
  },
  {
   "cell_type": "code",
   "execution_count": 26,
   "metadata": {},
   "outputs": [],
   "source": [
    "fill_4 = ['feature_22', 'feature_21']"
   ]
  },
  {
   "cell_type": "code",
   "execution_count": 27,
   "metadata": {},
   "outputs": [],
   "source": [
    "for col in fill_0:\n",
    "    train_df[col].fillna(0.0, inplace = True)\n",
    "    test_df[col].fillna(0.0, inplace = True)"
   ]
  },
  {
   "cell_type": "code",
   "execution_count": 28,
   "metadata": {},
   "outputs": [],
   "source": [
    "train_mean = train_df[fill_mean].mean()"
   ]
  },
  {
   "cell_type": "code",
   "execution_count": 29,
   "metadata": {},
   "outputs": [],
   "source": [
    "for col in fill_mean:\n",
    "    train_df[col].fillna(train_mean[col], inplace = True)\n",
    "    test_df[col].fillna(train_mean[col], inplace = True)"
   ]
  },
  {
   "cell_type": "code",
   "execution_count": 30,
   "metadata": {},
   "outputs": [],
   "source": [
    "for col in fill_4:\n",
    "    train_df[col].fillna(-4.25, inplace = True)\n",
    "    test_df[col].fillna(-4.25, inplace = True)"
   ]
  },
  {
   "cell_type": "code",
   "execution_count": 31,
   "metadata": {},
   "outputs": [],
   "source": [
    "train_df['feature_0'].fillna(110., inplace = True)\n",
    "test_df['feature_0'].fillna(110., inplace = True)"
   ]
  },
  {
   "cell_type": "code",
   "execution_count": 32,
   "metadata": {},
   "outputs": [
    {
     "data": {
      "text/plain": [
       "0"
      ]
     },
     "execution_count": 32,
     "metadata": {},
     "output_type": "execute_result"
    }
   ],
   "source": [
    "train_df.isna().sum().sum()"
   ]
  },
  {
   "cell_type": "code",
   "execution_count": 33,
   "metadata": {},
   "outputs": [
    {
     "data": {
      "text/plain": [
       "12264"
      ]
     },
     "execution_count": 33,
     "metadata": {},
     "output_type": "execute_result"
    }
   ],
   "source": [
    "test_df.isna().sum().sum()"
   ]
  },
  {
   "cell_type": "markdown",
   "metadata": {},
   "source": [
    "Modelling"
   ]
  },
  {
   "cell_type": "code",
   "execution_count": 34,
   "metadata": {},
   "outputs": [],
   "source": [
    "import xgboost as xgb\n",
    "import lightgbm as lgm\n",
    "from sklearn.ensemble import RandomForestClassifier\n",
    "from sklearn.metrics import roc_auc_score\n",
    "from sklearn.model_selection import train_test_split\n",
    "from sklearn.model_selection import cross_val_score"
   ]
  },
  {
   "cell_type": "code",
   "execution_count": 35,
   "metadata": {},
   "outputs": [],
   "source": [
    "features = train_df.columns[1:-1]"
   ]
  },
  {
   "cell_type": "code",
   "execution_count": 36,
   "metadata": {},
   "outputs": [],
   "source": [
    "X = train_df[features]\n",
    "y = train_df['target']"
   ]
  },
  {
   "cell_type": "code",
   "execution_count": 37,
   "metadata": {},
   "outputs": [],
   "source": [
    "rf = RandomForestClassifier(n_estimators=300,\n",
    "                       criterion='gini',\n",
    "                       max_depth=None,\n",
    "                       min_samples_split=2,\n",
    "                       min_samples_leaf=1,\n",
    "                       min_weight_fraction_leaf=0.0,\n",
    "                       max_features='auto',\n",
    "                       max_leaf_nodes=None,\n",
    "                       min_impurity_decrease=0.0,\n",
    "                       min_impurity_split=None,\n",
    "                       bootstrap=True,\n",
    "                       oob_score=False,\n",
    "                       n_jobs=None,\n",
    "                       random_state=None,\n",
    "                       verbose=0,\n",
    "                       warm_start=False,\n",
    "                       class_weight=None,\n",
    "                       ccp_alpha=0.0,\n",
    "                       max_samples=None,)"
   ]
  },
  {
   "cell_type": "code",
   "execution_count": 38,
   "metadata": {},
   "outputs": [
    {
     "data": {
      "text/plain": [
       "RandomForestClassifier(n_estimators=300)"
      ]
     },
     "execution_count": 38,
     "metadata": {},
     "output_type": "execute_result"
    }
   ],
   "source": [
    "rf.fit(X, y)"
   ]
  },
  {
   "cell_type": "code",
   "execution_count": 39,
   "metadata": {},
   "outputs": [],
   "source": [
    "test_df['rf_test_preds'] = rf.predict_proba(test_df[features])[:,1]"
   ]
  },
  {
   "cell_type": "code",
   "execution_count": 40,
   "metadata": {},
   "outputs": [
    {
     "data": {
      "text/html": [
       "<div>\n",
       "<style scoped>\n",
       "    .dataframe tbody tr th:only-of-type {\n",
       "        vertical-align: middle;\n",
       "    }\n",
       "\n",
       "    .dataframe tbody tr th {\n",
       "        vertical-align: top;\n",
       "    }\n",
       "\n",
       "    .dataframe thead th {\n",
       "        text-align: right;\n",
       "    }\n",
       "</style>\n",
       "<table border=\"1\" class=\"dataframe\">\n",
       "  <thead>\n",
       "    <tr style=\"text-align: right;\">\n",
       "      <th></th>\n",
       "      <th>id</th>\n",
       "      <th>feature_0</th>\n",
       "      <th>feature_1</th>\n",
       "      <th>feature_2</th>\n",
       "      <th>feature_3</th>\n",
       "      <th>feature_4</th>\n",
       "      <th>feature_5</th>\n",
       "      <th>feature_6</th>\n",
       "      <th>feature_7</th>\n",
       "      <th>feature_8</th>\n",
       "      <th>feature_9</th>\n",
       "      <th>feature_10</th>\n",
       "      <th>feature_11</th>\n",
       "      <th>feature_12</th>\n",
       "      <th>feature_13</th>\n",
       "      <th>feature_14</th>\n",
       "      <th>feature_15</th>\n",
       "      <th>feature_16</th>\n",
       "      <th>feature_17</th>\n",
       "      <th>feature_18</th>\n",
       "      <th>feature_19</th>\n",
       "      <th>feature_20</th>\n",
       "      <th>feature_21</th>\n",
       "      <th>feature_22</th>\n",
       "      <th>feature_23</th>\n",
       "      <th>feature_24</th>\n",
       "      <th>feature_25</th>\n",
       "      <th>feature_26</th>\n",
       "      <th>feature_27</th>\n",
       "      <th>feature_28</th>\n",
       "      <th>feature_29</th>\n",
       "      <th>feature_30</th>\n",
       "      <th>feature_32</th>\n",
       "      <th>feature_33</th>\n",
       "      <th>feature_35</th>\n",
       "      <th>feature_36</th>\n",
       "      <th>feature_37</th>\n",
       "      <th>feature_38</th>\n",
       "      <th>feature_39</th>\n",
       "      <th>feature_40</th>\n",
       "      <th>feature_42</th>\n",
       "      <th>feature_43</th>\n",
       "      <th>feature_45</th>\n",
       "      <th>feature_46</th>\n",
       "      <th>feature_47</th>\n",
       "      <th>feature_48</th>\n",
       "      <th>feature_49</th>\n",
       "      <th>feature_50</th>\n",
       "      <th>target</th>\n",
       "      <th>rf_test_preds</th>\n",
       "    </tr>\n",
       "  </thead>\n",
       "  <tbody>\n",
       "    <tr>\n",
       "      <th>49008</th>\n",
       "      <td>4084</td>\n",
       "      <td>110.0</td>\n",
       "      <td>77.66</td>\n",
       "      <td>0.494997</td>\n",
       "      <td>0.0</td>\n",
       "      <td>209.00</td>\n",
       "      <td>0.0</td>\n",
       "      <td>0.201109</td>\n",
       "      <td>141.82</td>\n",
       "      <td>35.0</td>\n",
       "      <td>3.27</td>\n",
       "      <td>183.28</td>\n",
       "      <td>77.66</td>\n",
       "      <td>0.181976</td>\n",
       "      <td>0.002610</td>\n",
       "      <td>0.0</td>\n",
       "      <td>0.0</td>\n",
       "      <td>0.000000</td>\n",
       "      <td>0.838393</td>\n",
       "      <td>174.50</td>\n",
       "      <td>0.226795</td>\n",
       "      <td>75.0</td>\n",
       "      <td>2.66</td>\n",
       "      <td>77.66</td>\n",
       "      <td>9.0</td>\n",
       "      <td>0.0</td>\n",
       "      <td>0</td>\n",
       "      <td>20.0</td>\n",
       "      <td>3.27</td>\n",
       "      <td>32.58</td>\n",
       "      <td>60.0</td>\n",
       "      <td>29.0</td>\n",
       "      <td>44.0</td>\n",
       "      <td>0.032862</td>\n",
       "      <td>0.0</td>\n",
       "      <td>62.53</td>\n",
       "      <td>0.0</td>\n",
       "      <td>0.0</td>\n",
       "      <td>0.10</td>\n",
       "      <td>0.87</td>\n",
       "      <td>-0.0</td>\n",
       "      <td>0.0</td>\n",
       "      <td>3.0</td>\n",
       "      <td>0.035053</td>\n",
       "      <td>31.0</td>\n",
       "      <td>120.75</td>\n",
       "      <td>2.0</td>\n",
       "      <td>11</td>\n",
       "      <td>NaN</td>\n",
       "      <td>0.060000</td>\n",
       "    </tr>\n",
       "    <tr>\n",
       "      <th>49009</th>\n",
       "      <td>4084</td>\n",
       "      <td>110.0</td>\n",
       "      <td>161.86</td>\n",
       "      <td>0.448919</td>\n",
       "      <td>0.0</td>\n",
       "      <td>193.65</td>\n",
       "      <td>0.0</td>\n",
       "      <td>0.167043</td>\n",
       "      <td>114.73</td>\n",
       "      <td>36.0</td>\n",
       "      <td>1.30</td>\n",
       "      <td>160.38</td>\n",
       "      <td>161.86</td>\n",
       "      <td>0.207897</td>\n",
       "      <td>0.004074</td>\n",
       "      <td>0.0</td>\n",
       "      <td>0.0</td>\n",
       "      <td>16181.098369</td>\n",
       "      <td>0.209477</td>\n",
       "      <td>154.73</td>\n",
       "      <td>0.226795</td>\n",
       "      <td>150.0</td>\n",
       "      <td>11.86</td>\n",
       "      <td>161.86</td>\n",
       "      <td>-8.0</td>\n",
       "      <td>0.0</td>\n",
       "      <td>0</td>\n",
       "      <td>24.0</td>\n",
       "      <td>0.00</td>\n",
       "      <td>33.35</td>\n",
       "      <td>165.0</td>\n",
       "      <td>32.0</td>\n",
       "      <td>47.0</td>\n",
       "      <td>0.045954</td>\n",
       "      <td>0.0</td>\n",
       "      <td>43.25</td>\n",
       "      <td>0.0</td>\n",
       "      <td>0.0</td>\n",
       "      <td>6.65</td>\n",
       "      <td>1.69</td>\n",
       "      <td>-0.0</td>\n",
       "      <td>0.0</td>\n",
       "      <td>2.0</td>\n",
       "      <td>0.037252</td>\n",
       "      <td>29.0</td>\n",
       "      <td>117.13</td>\n",
       "      <td>1.0</td>\n",
       "      <td>11</td>\n",
       "      <td>NaN</td>\n",
       "      <td>0.086667</td>\n",
       "    </tr>\n",
       "  </tbody>\n",
       "</table>\n",
       "</div>"
      ],
      "text/plain": [
       "         id  feature_0  feature_1  feature_2  feature_3  feature_4  feature_5  \\\n",
       "49008  4084      110.0      77.66   0.494997        0.0     209.00        0.0   \n",
       "49009  4084      110.0     161.86   0.448919        0.0     193.65        0.0   \n",
       "\n",
       "       feature_6  feature_7  feature_8  feature_9  feature_10  feature_11  \\\n",
       "49008   0.201109     141.82       35.0       3.27      183.28       77.66   \n",
       "49009   0.167043     114.73       36.0       1.30      160.38      161.86   \n",
       "\n",
       "       feature_12  feature_13  feature_14  feature_15    feature_16  \\\n",
       "49008    0.181976    0.002610         0.0         0.0      0.000000   \n",
       "49009    0.207897    0.004074         0.0         0.0  16181.098369   \n",
       "\n",
       "       feature_17  feature_18  feature_19  feature_20  feature_21  feature_22  \\\n",
       "49008    0.838393      174.50    0.226795        75.0        2.66       77.66   \n",
       "49009    0.209477      154.73    0.226795       150.0       11.86      161.86   \n",
       "\n",
       "       feature_23  feature_24  feature_25  feature_26  feature_27  feature_28  \\\n",
       "49008         9.0         0.0           0        20.0        3.27       32.58   \n",
       "49009        -8.0         0.0           0        24.0        0.00       33.35   \n",
       "\n",
       "       feature_29  feature_30  feature_32  feature_33  feature_35  feature_36  \\\n",
       "49008        60.0        29.0        44.0    0.032862         0.0       62.53   \n",
       "49009       165.0        32.0        47.0    0.045954         0.0       43.25   \n",
       "\n",
       "       feature_37  feature_38  feature_39  feature_40  feature_42  feature_43  \\\n",
       "49008         0.0         0.0        0.10        0.87        -0.0         0.0   \n",
       "49009         0.0         0.0        6.65        1.69        -0.0         0.0   \n",
       "\n",
       "       feature_45  feature_46  feature_47  feature_48  feature_49  feature_50  \\\n",
       "49008         3.0    0.035053        31.0      120.75         2.0          11   \n",
       "49009         2.0    0.037252        29.0      117.13         1.0          11   \n",
       "\n",
       "       target  rf_test_preds  \n",
       "49008     NaN       0.060000  \n",
       "49009     NaN       0.086667  "
      ]
     },
     "execution_count": 40,
     "metadata": {},
     "output_type": "execute_result"
    }
   ],
   "source": [
    "test_df.head(2)"
   ]
  },
  {
   "cell_type": "code",
   "execution_count": 41,
   "metadata": {},
   "outputs": [],
   "source": [
    "test_preds = test_df[['id', 'rf_test_preds']].groupby('id').mean().sort_values(by='id')"
   ]
  },
  {
   "cell_type": "code",
   "execution_count": 42,
   "metadata": {},
   "outputs": [
    {
     "data": {
      "text/html": [
       "<div>\n",
       "<style scoped>\n",
       "    .dataframe tbody tr th:only-of-type {\n",
       "        vertical-align: middle;\n",
       "    }\n",
       "\n",
       "    .dataframe tbody tr th {\n",
       "        vertical-align: top;\n",
       "    }\n",
       "\n",
       "    .dataframe thead th {\n",
       "        text-align: right;\n",
       "    }\n",
       "</style>\n",
       "<table border=\"1\" class=\"dataframe\">\n",
       "  <thead>\n",
       "    <tr style=\"text-align: right;\">\n",
       "      <th></th>\n",
       "      <th>rf_test_preds</th>\n",
       "    </tr>\n",
       "    <tr>\n",
       "      <th>id</th>\n",
       "      <th></th>\n",
       "    </tr>\n",
       "  </thead>\n",
       "  <tbody>\n",
       "    <tr>\n",
       "      <th>4084</th>\n",
       "      <td>0.086389</td>\n",
       "    </tr>\n",
       "    <tr>\n",
       "      <th>4085</th>\n",
       "      <td>0.157222</td>\n",
       "    </tr>\n",
       "    <tr>\n",
       "      <th>4086</th>\n",
       "      <td>0.123889</td>\n",
       "    </tr>\n",
       "    <tr>\n",
       "      <th>4087</th>\n",
       "      <td>0.253056</td>\n",
       "    </tr>\n",
       "    <tr>\n",
       "      <th>4088</th>\n",
       "      <td>0.371944</td>\n",
       "    </tr>\n",
       "    <tr>\n",
       "      <th>...</th>\n",
       "      <td>...</td>\n",
       "    </tr>\n",
       "    <tr>\n",
       "      <th>5101</th>\n",
       "      <td>0.104444</td>\n",
       "    </tr>\n",
       "    <tr>\n",
       "      <th>5102</th>\n",
       "      <td>0.577222</td>\n",
       "    </tr>\n",
       "    <tr>\n",
       "      <th>5103</th>\n",
       "      <td>0.146111</td>\n",
       "    </tr>\n",
       "    <tr>\n",
       "      <th>5104</th>\n",
       "      <td>0.168611</td>\n",
       "    </tr>\n",
       "    <tr>\n",
       "      <th>5105</th>\n",
       "      <td>0.063056</td>\n",
       "    </tr>\n",
       "  </tbody>\n",
       "</table>\n",
       "<p>1022 rows × 1 columns</p>\n",
       "</div>"
      ],
      "text/plain": [
       "      rf_test_preds\n",
       "id                 \n",
       "4084       0.086389\n",
       "4085       0.157222\n",
       "4086       0.123889\n",
       "4087       0.253056\n",
       "4088       0.371944\n",
       "...             ...\n",
       "5101       0.104444\n",
       "5102       0.577222\n",
       "5103       0.146111\n",
       "5104       0.168611\n",
       "5105       0.063056\n",
       "\n",
       "[1022 rows x 1 columns]"
      ]
     },
     "execution_count": 42,
     "metadata": {},
     "output_type": "execute_result"
    }
   ],
   "source": [
    "test_preds"
   ]
  },
  {
   "cell_type": "code",
   "execution_count": 43,
   "metadata": {},
   "outputs": [
    {
     "data": {
      "text/plain": [
       "(array([ 37.,  79.,  99., 106., 101., 105.,  92.,  82.,  63.,  65.,  43.,\n",
       "         39.,  33.,  20.,  24.,  15.,   7.,  10.,   1.,   1.]),\n",
       " array([0.01444444, 0.05408333, 0.09372222, 0.13336111, 0.173     ,\n",
       "        0.21263889, 0.25227778, 0.29191667, 0.33155556, 0.37119444,\n",
       "        0.41083333, 0.45047222, 0.49011111, 0.52975   , 0.56938889,\n",
       "        0.60902778, 0.64866667, 0.68830556, 0.72794444, 0.76758333,\n",
       "        0.80722222]),\n",
       " <BarContainer object of 20 artists>)"
      ]
     },
     "execution_count": 43,
     "metadata": {},
     "output_type": "execute_result"
    },
    {
     "data": {
      "image/png": "[encoded data removed]",
      "text/plain": [
       "<Figure size 432x288 with 1 Axes>"
      ]
     },
     "metadata": {
      "needs_background": "light"
     },
     "output_type": "display_data"
    }
   ],
   "source": [
    "plt.hist(test_preds['rf_test_preds'], bins=20)"
   ]
  },
  {
   "cell_type": "code",
   "execution_count": 44,
   "metadata": {},
   "outputs": [
    {
     "data": {
      "text/plain": [
       "(138, 1)"
      ]
     },
     "execution_count": 44,
     "metadata": {},
     "output_type": "execute_result"
    }
   ],
   "source": [
    "(test_preds['rf_test_preds'] < 0.1).sum(), (test_preds['rf_test_preds'] > 0.8).sum()"
   ]
  },
  {
   "cell_type": "code",
   "execution_count": 45,
   "metadata": {},
   "outputs": [
    {
     "data": {
      "image/png": "[encoded data removed]",
      "text/plain": [
       "<Figure size 1152x360 with 1 Axes>"
      ]
     },
     "metadata": {
      "needs_background": "light"
     },
     "output_type": "display_data"
    }
   ],
   "source": [
    "plt.figure(figsize = (16,5))\n",
    "plt.margins(x=0.01, y=0.1)\n",
    "plt.plot(rf.feature_importances_[np.argsort(rf.feature_importances_)][-15:], 'bo')\n",
    "plt.xticks(np.arange(15),\n",
    "           features[np.argsort(rf.feature_importances_)][-15:],\n",
    "           fontsize = 'small', rotation = 90);"
   ]
  },
  {
   "cell_type": "code",
   "execution_count": null,
   "metadata": {},
   "outputs": [],
   "source": []
  },
  {
   "cell_type": "code",
   "execution_count": null,
   "metadata": {},
   "outputs": [],
   "source": []
  },
  {
   "cell_type": "code",
   "execution_count": 46,
   "metadata": {},
   "outputs": [],
   "source": [
    "dtrain = xgb.DMatrix(data=X, label=y, weight=None,\n",
    "                     base_margin=None, missing=None,\n",
    "                     silent=False, feature_names=list(features),\n",
    "                     feature_types=None, nthread=None,)\n",
    "\n",
    "dtest = xgb.DMatrix(data=test_df[features], label=None, weight=None,\n",
    "                     base_margin=None, missing=None,\n",
    "                     silent=False, feature_names=list(features),\n",
    "                     feature_types=None, nthread=None,)"
   ]
  },
  {
   "cell_type": "code",
   "execution_count": 47,
   "metadata": {},
   "outputs": [],
   "source": [
    "params={'learning_rate':0.1,\n",
    "        'max_depth':7,\n",
    "        'eval_metric': 'auc',\n",
    "        'objective':'binary:logistic'\n",
    "       }"
   ]
  },
  {
   "cell_type": "code",
   "execution_count": 48,
   "metadata": {},
   "outputs": [],
   "source": [
    "bst = xgb.train(params, dtrain=dtrain, num_boost_round=300, evals=[(dtrain,'train')], obj=None, feval=None,\n",
    "          maximize=False, early_stopping_rounds=None, evals_result=None,\n",
    "          verbose_eval=0, xgb_model=None, callbacks=None)"
   ]
  },
  {
   "cell_type": "code",
   "execution_count": 49,
   "metadata": {},
   "outputs": [
    {
     "data": {
      "text/plain": [
       "<AxesSubplot:title={'center':'Feature importance'}, xlabel='F score', ylabel='Features'>"
      ]
     },
     "execution_count": 49,
     "metadata": {},
     "output_type": "execute_result"
    },
    {
     "data": {
      "image/png": "[encoded data removed]",
      "text/plain": [
       "<Figure size 432x288 with 1 Axes>"
      ]
     },
     "metadata": {
      "needs_background": "light"
     },
     "output_type": "display_data"
    }
   ],
   "source": [
    "xgb.plot_importance(bst, max_num_features=15)"
   ]
  },
  {
   "cell_type": "code",
   "execution_count": 50,
   "metadata": {},
   "outputs": [],
   "source": [
    "test_df['xgb_test_preds'] = bst.predict(dtest)"
   ]
  },
  {
   "cell_type": "code",
   "execution_count": 51,
   "metadata": {},
   "outputs": [
    {
     "data": {
      "text/html": [
       "<div>\n",
       "<style scoped>\n",
       "    .dataframe tbody tr th:only-of-type {\n",
       "        vertical-align: middle;\n",
       "    }\n",
       "\n",
       "    .dataframe tbody tr th {\n",
       "        vertical-align: top;\n",
       "    }\n",
       "\n",
       "    .dataframe thead th {\n",
       "        text-align: right;\n",
       "    }\n",
       "</style>\n",
       "<table border=\"1\" class=\"dataframe\">\n",
       "  <thead>\n",
       "    <tr style=\"text-align: right;\">\n",
       "      <th></th>\n",
       "      <th>id</th>\n",
       "      <th>feature_0</th>\n",
       "      <th>feature_1</th>\n",
       "      <th>feature_2</th>\n",
       "      <th>feature_3</th>\n",
       "      <th>feature_4</th>\n",
       "      <th>feature_5</th>\n",
       "      <th>feature_6</th>\n",
       "      <th>feature_7</th>\n",
       "      <th>feature_8</th>\n",
       "      <th>feature_9</th>\n",
       "      <th>feature_10</th>\n",
       "      <th>feature_11</th>\n",
       "      <th>feature_12</th>\n",
       "      <th>feature_13</th>\n",
       "      <th>feature_14</th>\n",
       "      <th>feature_15</th>\n",
       "      <th>feature_16</th>\n",
       "      <th>feature_17</th>\n",
       "      <th>feature_18</th>\n",
       "      <th>feature_19</th>\n",
       "      <th>feature_20</th>\n",
       "      <th>feature_21</th>\n",
       "      <th>feature_22</th>\n",
       "      <th>feature_23</th>\n",
       "      <th>feature_24</th>\n",
       "      <th>feature_25</th>\n",
       "      <th>feature_26</th>\n",
       "      <th>feature_27</th>\n",
       "      <th>feature_28</th>\n",
       "      <th>feature_29</th>\n",
       "      <th>feature_30</th>\n",
       "      <th>feature_32</th>\n",
       "      <th>feature_33</th>\n",
       "      <th>feature_35</th>\n",
       "      <th>feature_36</th>\n",
       "      <th>feature_37</th>\n",
       "      <th>feature_38</th>\n",
       "      <th>feature_39</th>\n",
       "      <th>feature_40</th>\n",
       "      <th>feature_42</th>\n",
       "      <th>feature_43</th>\n",
       "      <th>feature_45</th>\n",
       "      <th>feature_46</th>\n",
       "      <th>feature_47</th>\n",
       "      <th>feature_48</th>\n",
       "      <th>feature_49</th>\n",
       "      <th>feature_50</th>\n",
       "      <th>target</th>\n",
       "      <th>rf_test_preds</th>\n",
       "      <th>xgb_test_preds</th>\n",
       "    </tr>\n",
       "  </thead>\n",
       "  <tbody>\n",
       "    <tr>\n",
       "      <th>49008</th>\n",
       "      <td>4084</td>\n",
       "      <td>110.0</td>\n",
       "      <td>77.66</td>\n",
       "      <td>0.494997</td>\n",
       "      <td>0.000000</td>\n",
       "      <td>209.00</td>\n",
       "      <td>0.0</td>\n",
       "      <td>0.201109</td>\n",
       "      <td>141.82</td>\n",
       "      <td>35.0</td>\n",
       "      <td>3.27</td>\n",
       "      <td>183.28</td>\n",
       "      <td>77.66</td>\n",
       "      <td>0.181976</td>\n",
       "      <td>0.002610</td>\n",
       "      <td>0.0</td>\n",
       "      <td>0.0</td>\n",
       "      <td>0.000000</td>\n",
       "      <td>0.838393</td>\n",
       "      <td>174.50</td>\n",
       "      <td>0.226795</td>\n",
       "      <td>75.00</td>\n",
       "      <td>2.66</td>\n",
       "      <td>77.66</td>\n",
       "      <td>9.0</td>\n",
       "      <td>0.0</td>\n",
       "      <td>0</td>\n",
       "      <td>20.0</td>\n",
       "      <td>3.27</td>\n",
       "      <td>32.58</td>\n",
       "      <td>60.0</td>\n",
       "      <td>29.0</td>\n",
       "      <td>44.0</td>\n",
       "      <td>0.032862</td>\n",
       "      <td>0.000000</td>\n",
       "      <td>62.53</td>\n",
       "      <td>0.0</td>\n",
       "      <td>0.0</td>\n",
       "      <td>0.10</td>\n",
       "      <td>0.87</td>\n",
       "      <td>-0.000000</td>\n",
       "      <td>0.0</td>\n",
       "      <td>3.0</td>\n",
       "      <td>0.035053</td>\n",
       "      <td>31.0</td>\n",
       "      <td>120.75</td>\n",
       "      <td>2.0</td>\n",
       "      <td>11</td>\n",
       "      <td>NaN</td>\n",
       "      <td>0.060000</td>\n",
       "      <td>0.025687</td>\n",
       "    </tr>\n",
       "    <tr>\n",
       "      <th>49009</th>\n",
       "      <td>4084</td>\n",
       "      <td>110.0</td>\n",
       "      <td>161.86</td>\n",
       "      <td>0.448919</td>\n",
       "      <td>0.000000</td>\n",
       "      <td>193.65</td>\n",
       "      <td>0.0</td>\n",
       "      <td>0.167043</td>\n",
       "      <td>114.73</td>\n",
       "      <td>36.0</td>\n",
       "      <td>1.30</td>\n",
       "      <td>160.38</td>\n",
       "      <td>161.86</td>\n",
       "      <td>0.207897</td>\n",
       "      <td>0.004074</td>\n",
       "      <td>0.0</td>\n",
       "      <td>0.0</td>\n",
       "      <td>16181.098369</td>\n",
       "      <td>0.209477</td>\n",
       "      <td>154.73</td>\n",
       "      <td>0.226795</td>\n",
       "      <td>150.00</td>\n",
       "      <td>11.86</td>\n",
       "      <td>161.86</td>\n",
       "      <td>-8.0</td>\n",
       "      <td>0.0</td>\n",
       "      <td>0</td>\n",
       "      <td>24.0</td>\n",
       "      <td>0.00</td>\n",
       "      <td>33.35</td>\n",
       "      <td>165.0</td>\n",
       "      <td>32.0</td>\n",
       "      <td>47.0</td>\n",
       "      <td>0.045954</td>\n",
       "      <td>0.000000</td>\n",
       "      <td>43.25</td>\n",
       "      <td>0.0</td>\n",
       "      <td>0.0</td>\n",
       "      <td>6.65</td>\n",
       "      <td>1.69</td>\n",
       "      <td>-0.000000</td>\n",
       "      <td>0.0</td>\n",
       "      <td>2.0</td>\n",
       "      <td>0.037252</td>\n",
       "      <td>29.0</td>\n",
       "      <td>117.13</td>\n",
       "      <td>1.0</td>\n",
       "      <td>11</td>\n",
       "      <td>NaN</td>\n",
       "      <td>0.086667</td>\n",
       "      <td>0.026143</td>\n",
       "    </tr>\n",
       "    <tr>\n",
       "      <th>49010</th>\n",
       "      <td>4084</td>\n",
       "      <td>110.0</td>\n",
       "      <td>85.00</td>\n",
       "      <td>0.385688</td>\n",
       "      <td>0.000000</td>\n",
       "      <td>130.27</td>\n",
       "      <td>0.0</td>\n",
       "      <td>0.161869</td>\n",
       "      <td>263.30</td>\n",
       "      <td>152.0</td>\n",
       "      <td>5.30</td>\n",
       "      <td>122.10</td>\n",
       "      <td>85.00</td>\n",
       "      <td>0.255406</td>\n",
       "      <td>0.005041</td>\n",
       "      <td>1.0</td>\n",
       "      <td>0.0</td>\n",
       "      <td>1.000000</td>\n",
       "      <td>0.626729</td>\n",
       "      <td>275.05</td>\n",
       "      <td>0.226795</td>\n",
       "      <td>80.00</td>\n",
       "      <td>5.00</td>\n",
       "      <td>85.00</td>\n",
       "      <td>11.0</td>\n",
       "      <td>1.0</td>\n",
       "      <td>0</td>\n",
       "      <td>40.0</td>\n",
       "      <td>0.00</td>\n",
       "      <td>11.75</td>\n",
       "      <td>100.0</td>\n",
       "      <td>51.0</td>\n",
       "      <td>61.0</td>\n",
       "      <td>0.062920</td>\n",
       "      <td>0.000000</td>\n",
       "      <td>28.30</td>\n",
       "      <td>0.0</td>\n",
       "      <td>0.0</td>\n",
       "      <td>0.00</td>\n",
       "      <td>2.87</td>\n",
       "      <td>0.000000</td>\n",
       "      <td>1.0</td>\n",
       "      <td>1.0</td>\n",
       "      <td>0.013951</td>\n",
       "      <td>151.0</td>\n",
       "      <td>93.80</td>\n",
       "      <td>2.0</td>\n",
       "      <td>11</td>\n",
       "      <td>NaN</td>\n",
       "      <td>0.113333</td>\n",
       "      <td>0.021838</td>\n",
       "    </tr>\n",
       "    <tr>\n",
       "      <th>49011</th>\n",
       "      <td>4084</td>\n",
       "      <td>110.0</td>\n",
       "      <td>78.00</td>\n",
       "      <td>0.365817</td>\n",
       "      <td>0.000000</td>\n",
       "      <td>157.03</td>\n",
       "      <td>0.0</td>\n",
       "      <td>0.156286</td>\n",
       "      <td>787.50</td>\n",
       "      <td>215.0</td>\n",
       "      <td>1.38</td>\n",
       "      <td>148.10</td>\n",
       "      <td>78.00</td>\n",
       "      <td>0.280130</td>\n",
       "      <td>0.005876</td>\n",
       "      <td>0.0</td>\n",
       "      <td>0.0</td>\n",
       "      <td>0.000000</td>\n",
       "      <td>0.618390</td>\n",
       "      <td>804.75</td>\n",
       "      <td>0.226795</td>\n",
       "      <td>75.00</td>\n",
       "      <td>3.00</td>\n",
       "      <td>78.00</td>\n",
       "      <td>3.0</td>\n",
       "      <td>0.0</td>\n",
       "      <td>0</td>\n",
       "      <td>27.0</td>\n",
       "      <td>0.00</td>\n",
       "      <td>17.25</td>\n",
       "      <td>85.0</td>\n",
       "      <td>30.0</td>\n",
       "      <td>57.0</td>\n",
       "      <td>0.075233</td>\n",
       "      <td>0.000000</td>\n",
       "      <td>5.63</td>\n",
       "      <td>0.0</td>\n",
       "      <td>0.0</td>\n",
       "      <td>0.00</td>\n",
       "      <td>7.55</td>\n",
       "      <td>0.000000</td>\n",
       "      <td>0.0</td>\n",
       "      <td>1.0</td>\n",
       "      <td>0.005658</td>\n",
       "      <td>214.0</td>\n",
       "      <td>142.47</td>\n",
       "      <td>1.0</td>\n",
       "      <td>11</td>\n",
       "      <td>NaN</td>\n",
       "      <td>0.103333</td>\n",
       "      <td>0.014313</td>\n",
       "    </tr>\n",
       "    <tr>\n",
       "      <th>49012</th>\n",
       "      <td>4084</td>\n",
       "      <td>110.0</td>\n",
       "      <td>85.08</td>\n",
       "      <td>0.105262</td>\n",
       "      <td>2041.945145</td>\n",
       "      <td>67.42</td>\n",
       "      <td>0.0</td>\n",
       "      <td>0.113863</td>\n",
       "      <td>430.43</td>\n",
       "      <td>126.0</td>\n",
       "      <td>10.72</td>\n",
       "      <td>51.70</td>\n",
       "      <td>85.08</td>\n",
       "      <td>0.355205</td>\n",
       "      <td>0.042197</td>\n",
       "      <td>0.0</td>\n",
       "      <td>8.0</td>\n",
       "      <td>1.000000</td>\n",
       "      <td>0.260960</td>\n",
       "      <td>459.53</td>\n",
       "      <td>0.226795</td>\n",
       "      <td>75.08</td>\n",
       "      <td>10.00</td>\n",
       "      <td>85.08</td>\n",
       "      <td>5.0</td>\n",
       "      <td>1.0</td>\n",
       "      <td>0</td>\n",
       "      <td>32.0</td>\n",
       "      <td>0.00</td>\n",
       "      <td>29.10</td>\n",
       "      <td>85.0</td>\n",
       "      <td>37.0</td>\n",
       "      <td>62.0</td>\n",
       "      <td>0.359863</td>\n",
       "      <td>2040.800154</td>\n",
       "      <td>3.73</td>\n",
       "      <td>0.0</td>\n",
       "      <td>0.0</td>\n",
       "      <td>0.00</td>\n",
       "      <td>5.00</td>\n",
       "      <td>0.056302</td>\n",
       "      <td>1.0</td>\n",
       "      <td>5.0</td>\n",
       "      <td>0.006493</td>\n",
       "      <td>121.0</td>\n",
       "      <td>47.97</td>\n",
       "      <td>3.0</td>\n",
       "      <td>11</td>\n",
       "      <td>NaN</td>\n",
       "      <td>0.120000</td>\n",
       "      <td>0.039906</td>\n",
       "    </tr>\n",
       "  </tbody>\n",
       "</table>\n",
       "</div>"
      ],
      "text/plain": [
       "         id  feature_0  feature_1  feature_2    feature_3  feature_4  \\\n",
       "49008  4084      110.0      77.66   0.494997     0.000000     209.00   \n",
       "49009  4084      110.0     161.86   0.448919     0.000000     193.65   \n",
       "49010  4084      110.0      85.00   0.385688     0.000000     130.27   \n",
       "49011  4084      110.0      78.00   0.365817     0.000000     157.03   \n",
       "49012  4084      110.0      85.08   0.105262  2041.945145      67.42   \n",
       "\n",
       "       feature_5  feature_6  feature_7  feature_8  feature_9  feature_10  \\\n",
       "49008        0.0   0.201109     141.82       35.0       3.27      183.28   \n",
       "49009        0.0   0.167043     114.73       36.0       1.30      160.38   \n",
       "49010        0.0   0.161869     263.30      152.0       5.30      122.10   \n",
       "49011        0.0   0.156286     787.50      215.0       1.38      148.10   \n",
       "49012        0.0   0.113863     430.43      126.0      10.72       51.70   \n",
       "\n",
       "       feature_11  feature_12  feature_13  feature_14  feature_15  \\\n",
       "49008       77.66    0.181976    0.002610         0.0         0.0   \n",
       "49009      161.86    0.207897    0.004074         0.0         0.0   \n",
       "49010       85.00    0.255406    0.005041         1.0         0.0   \n",
       "49011       78.00    0.280130    0.005876         0.0         0.0   \n",
       "49012       85.08    0.355205    0.042197         0.0         8.0   \n",
       "\n",
       "         feature_16  feature_17  feature_18  feature_19  feature_20  \\\n",
       "49008      0.000000    0.838393      174.50    0.226795       75.00   \n",
       "49009  16181.098369    0.209477      154.73    0.226795      150.00   \n",
       "49010      1.000000    0.626729      275.05    0.226795       80.00   \n",
       "49011      0.000000    0.618390      804.75    0.226795       75.00   \n",
       "49012      1.000000    0.260960      459.53    0.226795       75.08   \n",
       "\n",
       "       feature_21  feature_22  feature_23  feature_24  feature_25  feature_26  \\\n",
       "49008        2.66       77.66         9.0         0.0           0        20.0   \n",
       "49009       11.86      161.86        -8.0         0.0           0        24.0   \n",
       "49010        5.00       85.00        11.0         1.0           0        40.0   \n",
       "49011        3.00       78.00         3.0         0.0           0        27.0   \n",
       "49012       10.00       85.08         5.0         1.0           0        32.0   \n",
       "\n",
       "       feature_27  feature_28  feature_29  feature_30  feature_32  feature_33  \\\n",
       "49008        3.27       32.58        60.0        29.0        44.0    0.032862   \n",
       "49009        0.00       33.35       165.0        32.0        47.0    0.045954   \n",
       "49010        0.00       11.75       100.0        51.0        61.0    0.062920   \n",
       "49011        0.00       17.25        85.0        30.0        57.0    0.075233   \n",
       "49012        0.00       29.10        85.0        37.0        62.0    0.359863   \n",
       "\n",
       "        feature_35  feature_36  feature_37  feature_38  feature_39  \\\n",
       "49008     0.000000       62.53         0.0         0.0        0.10   \n",
       "49009     0.000000       43.25         0.0         0.0        6.65   \n",
       "49010     0.000000       28.30         0.0         0.0        0.00   \n",
       "49011     0.000000        5.63         0.0         0.0        0.00   \n",
       "49012  2040.800154        3.73         0.0         0.0        0.00   \n",
       "\n",
       "       feature_40  feature_42  feature_43  feature_45  feature_46  feature_47  \\\n",
       "49008        0.87   -0.000000         0.0         3.0    0.035053        31.0   \n",
       "49009        1.69   -0.000000         0.0         2.0    0.037252        29.0   \n",
       "49010        2.87    0.000000         1.0         1.0    0.013951       151.0   \n",
       "49011        7.55    0.000000         0.0         1.0    0.005658       214.0   \n",
       "49012        5.00    0.056302         1.0         5.0    0.006493       121.0   \n",
       "\n",
       "       feature_48  feature_49  feature_50  target  rf_test_preds  \\\n",
       "49008      120.75         2.0          11     NaN       0.060000   \n",
       "49009      117.13         1.0          11     NaN       0.086667   \n",
       "49010       93.80         2.0          11     NaN       0.113333   \n",
       "49011      142.47         1.0          11     NaN       0.103333   \n",
       "49012       47.97         3.0          11     NaN       0.120000   \n",
       "\n",
       "       xgb_test_preds  \n",
       "49008        0.025687  \n",
       "49009        0.026143  \n",
       "49010        0.021838  \n",
       "49011        0.014313  \n",
       "49012        0.039906  "
      ]
     },
     "execution_count": 51,
     "metadata": {},
     "output_type": "execute_result"
    }
   ],
   "source": [
    "test_df.head()"
   ]
  },
  {
   "cell_type": "code",
   "execution_count": 52,
   "metadata": {},
   "outputs": [],
   "source": [
    "test_preds['xgb_test_preds'] = test_df[['id', 'xgb_test_preds']].groupby('id').mean().sort_values(by='id')"
   ]
  },
  {
   "cell_type": "code",
   "execution_count": 53,
   "metadata": {},
   "outputs": [
    {
     "data": {
      "text/html": [
       "<div>\n",
       "<style scoped>\n",
       "    .dataframe tbody tr th:only-of-type {\n",
       "        vertical-align: middle;\n",
       "    }\n",
       "\n",
       "    .dataframe tbody tr th {\n",
       "        vertical-align: top;\n",
       "    }\n",
       "\n",
       "    .dataframe thead th {\n",
       "        text-align: right;\n",
       "    }\n",
       "</style>\n",
       "<table border=\"1\" class=\"dataframe\">\n",
       "  <thead>\n",
       "    <tr style=\"text-align: right;\">\n",
       "      <th></th>\n",
       "      <th>rf_test_preds</th>\n",
       "      <th>xgb_test_preds</th>\n",
       "    </tr>\n",
       "    <tr>\n",
       "      <th>id</th>\n",
       "      <th></th>\n",
       "      <th></th>\n",
       "    </tr>\n",
       "  </thead>\n",
       "  <tbody>\n",
       "    <tr>\n",
       "      <th>4084</th>\n",
       "      <td>0.086389</td>\n",
       "      <td>0.032540</td>\n",
       "    </tr>\n",
       "    <tr>\n",
       "      <th>4085</th>\n",
       "      <td>0.157222</td>\n",
       "      <td>0.141798</td>\n",
       "    </tr>\n",
       "    <tr>\n",
       "      <th>4086</th>\n",
       "      <td>0.123889</td>\n",
       "      <td>0.077989</td>\n",
       "    </tr>\n",
       "    <tr>\n",
       "      <th>4087</th>\n",
       "      <td>0.253056</td>\n",
       "      <td>0.267936</td>\n",
       "    </tr>\n",
       "    <tr>\n",
       "      <th>4088</th>\n",
       "      <td>0.371944</td>\n",
       "      <td>0.158242</td>\n",
       "    </tr>\n",
       "    <tr>\n",
       "      <th>...</th>\n",
       "      <td>...</td>\n",
       "      <td>...</td>\n",
       "    </tr>\n",
       "    <tr>\n",
       "      <th>5101</th>\n",
       "      <td>0.104444</td>\n",
       "      <td>0.047725</td>\n",
       "    </tr>\n",
       "    <tr>\n",
       "      <th>5102</th>\n",
       "      <td>0.577222</td>\n",
       "      <td>0.598029</td>\n",
       "    </tr>\n",
       "    <tr>\n",
       "      <th>5103</th>\n",
       "      <td>0.146111</td>\n",
       "      <td>0.132577</td>\n",
       "    </tr>\n",
       "    <tr>\n",
       "      <th>5104</th>\n",
       "      <td>0.168611</td>\n",
       "      <td>0.179288</td>\n",
       "    </tr>\n",
       "    <tr>\n",
       "      <th>5105</th>\n",
       "      <td>0.063056</td>\n",
       "      <td>0.001013</td>\n",
       "    </tr>\n",
       "  </tbody>\n",
       "</table>\n",
       "<p>1022 rows × 2 columns</p>\n",
       "</div>"
      ],
      "text/plain": [
       "      rf_test_preds  xgb_test_preds\n",
       "id                                 \n",
       "4084       0.086389        0.032540\n",
       "4085       0.157222        0.141798\n",
       "4086       0.123889        0.077989\n",
       "4087       0.253056        0.267936\n",
       "4088       0.371944        0.158242\n",
       "...             ...             ...\n",
       "5101       0.104444        0.047725\n",
       "5102       0.577222        0.598029\n",
       "5103       0.146111        0.132577\n",
       "5104       0.168611        0.179288\n",
       "5105       0.063056        0.001013\n",
       "\n",
       "[1022 rows x 2 columns]"
      ]
     },
     "execution_count": 53,
     "metadata": {},
     "output_type": "execute_result"
    }
   ],
   "source": [
    "test_preds"
   ]
  },
  {
   "cell_type": "code",
   "execution_count": 54,
   "metadata": {},
   "outputs": [
    {
     "data": {
      "text/plain": [
       "(array([137., 142., 122., 131.,  96.,  63.,  57.,  57.,  43.,  44.,  30.,\n",
       "         17.,  14.,  15.,  13.,  11.,  10.,   7.,   8.,   5.]),\n",
       " array([8.1116590e-04, 4.9541600e-02, 9.8272040e-02, 1.4700247e-01,\n",
       "        1.9573291e-01, 2.4446334e-01, 2.9319379e-01, 3.4192422e-01,\n",
       "        3.9065465e-01, 4.3938509e-01, 4.8811552e-01, 5.3684598e-01,\n",
       "        5.8557642e-01, 6.3430685e-01, 6.8303728e-01, 7.3176771e-01,\n",
       "        7.8049815e-01, 8.2922858e-01, 8.7795901e-01, 9.2668945e-01,\n",
       "        9.7541988e-01], dtype=float32),\n",
       " <BarContainer object of 20 artists>)"
      ]
     },
     "execution_count": 54,
     "metadata": {},
     "output_type": "execute_result"
    },
    {
     "data": {
      "image/png": "[encoded data removed]",
      "text/plain": [
       "<Figure size 432x288 with 1 Axes>"
      ]
     },
     "metadata": {
      "needs_background": "light"
     },
     "output_type": "display_data"
    }
   ],
   "source": [
    "plt.hist(test_preds['xgb_test_preds'], bins=20)"
   ]
  },
  {
   "cell_type": "code",
   "execution_count": 55,
   "metadata": {},
   "outputs": [],
   "source": [
    "ens = (test_preds['rf_test_preds'] + test_preds['xgb_test_preds'])/2"
   ]
  },
  {
   "cell_type": "code",
   "execution_count": 56,
   "metadata": {},
   "outputs": [],
   "source": [
    "pd.DataFrame(zip(test_preds.index, ens), columns=['id', 'score']).to_csv('StepanenkoViktor_test.csv', index=False)"
   ]
  },
  {
   "cell_type": "code",
   "execution_count": null,
   "metadata": {},
   "outputs": [],
   "source": []
  },
  {
   "cell_type": "code",
   "execution_count": 57,
   "metadata": {},
   "outputs": [],
   "source": [
    "solution=pd.read_csv('StepanenkoViktor_test.csv')"
   ]
  },
  {
   "cell_type": "code",
   "execution_count": 58,
   "metadata": {},
   "outputs": [
    {
     "data": {
      "text/html": [
       "<div>\n",
       "<style scoped>\n",
       "    .dataframe tbody tr th:only-of-type {\n",
       "        vertical-align: middle;\n",
       "    }\n",
       "\n",
       "    .dataframe tbody tr th {\n",
       "        vertical-align: top;\n",
       "    }\n",
       "\n",
       "    .dataframe thead th {\n",
       "        text-align: right;\n",
       "    }\n",
       "</style>\n",
       "<table border=\"1\" class=\"dataframe\">\n",
       "  <thead>\n",
       "    <tr style=\"text-align: right;\">\n",
       "      <th></th>\n",
       "      <th>id</th>\n",
       "      <th>score</th>\n",
       "    </tr>\n",
       "  </thead>\n",
       "  <tbody>\n",
       "    <tr>\n",
       "      <th>0</th>\n",
       "      <td>4084</td>\n",
       "      <td>0.059465</td>\n",
       "    </tr>\n",
       "    <tr>\n",
       "      <th>1</th>\n",
       "      <td>4085</td>\n",
       "      <td>0.149510</td>\n",
       "    </tr>\n",
       "    <tr>\n",
       "      <th>2</th>\n",
       "      <td>4086</td>\n",
       "      <td>0.100939</td>\n",
       "    </tr>\n",
       "    <tr>\n",
       "      <th>3</th>\n",
       "      <td>4087</td>\n",
       "      <td>0.260496</td>\n",
       "    </tr>\n",
       "    <tr>\n",
       "      <th>4</th>\n",
       "      <td>4088</td>\n",
       "      <td>0.265093</td>\n",
       "    </tr>\n",
       "    <tr>\n",
       "      <th>...</th>\n",
       "      <td>...</td>\n",
       "      <td>...</td>\n",
       "    </tr>\n",
       "    <tr>\n",
       "      <th>1017</th>\n",
       "      <td>5101</td>\n",
       "      <td>0.076085</td>\n",
       "    </tr>\n",
       "    <tr>\n",
       "      <th>1018</th>\n",
       "      <td>5102</td>\n",
       "      <td>0.587625</td>\n",
       "    </tr>\n",
       "    <tr>\n",
       "      <th>1019</th>\n",
       "      <td>5103</td>\n",
       "      <td>0.139344</td>\n",
       "    </tr>\n",
       "    <tr>\n",
       "      <th>1020</th>\n",
       "      <td>5104</td>\n",
       "      <td>0.173950</td>\n",
       "    </tr>\n",
       "    <tr>\n",
       "      <th>1021</th>\n",
       "      <td>5105</td>\n",
       "      <td>0.032034</td>\n",
       "    </tr>\n",
       "  </tbody>\n",
       "</table>\n",
       "<p>1022 rows × 2 columns</p>\n",
       "</div>"
      ],
      "text/plain": [
       "        id     score\n",
       "0     4084  0.059465\n",
       "1     4085  0.149510\n",
       "2     4086  0.100939\n",
       "3     4087  0.260496\n",
       "4     4088  0.265093\n",
       "...    ...       ...\n",
       "1017  5101  0.076085\n",
       "1018  5102  0.587625\n",
       "1019  5103  0.139344\n",
       "1020  5104  0.173950\n",
       "1021  5105  0.032034\n",
       "\n",
       "[1022 rows x 2 columns]"
      ]
     },
     "execution_count": 58,
     "metadata": {},
     "output_type": "execute_result"
    }
   ],
   "source": [
    "solution"
   ]
  },
  {
   "cell_type": "code",
   "execution_count": 59,
   "metadata": {},
   "outputs": [
    {
     "data": {
      "text/plain": [
       "(array([ 68., 107., 126., 111., 128.,  87.,  70.,  64.,  54.,  51.,  35.,\n",
       "         30.,  17.,  16.,  17.,  13.,  12.,   7.,   5.,   4.]),\n",
       " array([0.00849906, 0.05199669, 0.09549432, 0.13899195, 0.18248958,\n",
       "        0.22598721, 0.26948484, 0.31298247, 0.3564801 , 0.39997773,\n",
       "        0.44347536, 0.48697299, 0.53047062, 0.57396825, 0.61746588,\n",
       "        0.66096351, 0.70446114, 0.74795877, 0.7914564 , 0.83495403,\n",
       "        0.87845166]),\n",
       " <BarContainer object of 20 artists>)"
      ]
     },
     "execution_count": 59,
     "metadata": {},
     "output_type": "execute_result"
    },
    {
     "data": {
      "image/png": "[encoded data removed]",
      "text/plain": [
       "<Figure size 432x288 with 1 Axes>"
      ]
     },
     "metadata": {
      "needs_background": "light"
     },
     "output_type": "display_data"
    }
   ],
   "source": [
    "plt.hist(solution['score'],bins=20)"
   ]
  }
 ],
 "metadata": {
  "kernelspec": {
   "display_name": "Python 3",
   "language": "python",
   "name": "python3"
  },
  "language_info": {
   "codemirror_mode": {
    "name": "ipython",
    "version": 3
   },
   "file_extension": ".py",
   "mimetype": "text/x-python",
   "name": "python",
   "nbconvert_exporter": "python",
   "pygments_lexer": "ipython3",
   "version": "3.8.2"
  }
 },
 "nbformat": 4,
 "nbformat_minor": 4
}
